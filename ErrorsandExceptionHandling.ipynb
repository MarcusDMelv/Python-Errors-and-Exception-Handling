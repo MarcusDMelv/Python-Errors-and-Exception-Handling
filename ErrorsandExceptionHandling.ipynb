{
 "cells": [
  {
   "cell_type": "markdown",
   "metadata": {
    "collapsed": false
   },
   "source": [
    "Error handling to let the script continue with other code, even if there is an error\n",
    "\n",
    "three key words Try / except / finally\n",
    "\n",
    "try - block of code that is being attempted \n",
    "\n",
    "except - (if error) this block of code will e executed\n",
    "\n",
    "finally - this block of code is ran regardless of an error\n",
    "\n"
   ]
  },
  {
   "cell_type": "code",
   "execution_count": 1,
   "metadata": {
    "collapsed": false
   },
   "outputs": [
    {
     "name": "stdout",
     "output_type": "stream",
     "text": [
      "30\n"
     ]
    }
   ],
   "source": [
    "def add(n1,n2):\n",
    "    print(n1+n2)\n",
    "\n",
    "add(10,20)"
   ]
  },
  {
   "cell_type": "code",
   "execution_count": 3,
   "metadata": {
    "cocalc": {
     "outputs": {
      "0": {
       "name": "input",
       "opts": {
        "password": false,
        "prompt": "Please provide a number"
       },
       "output_type": "stream",
       "value": "20"
      }
     }
    },
    "collapsed": false
   },
   "outputs": [
    {
     "name": "stdout",
     "output_type": "stream",
     "text": "Please provide a number 20"
    },
    {
     "name": "stdout",
     "output_type": "stream",
     "text": [
      "30\n"
     ]
    }
   ],
   "source": [
    "number1 = 10\n",
    "number2 = input('Please provide a number')\n",
    "# error message because number2 will equal a string\n",
    "add(number1,number2)\n",
    "# anything under this script will not be executed because program has stopped\n"
   ]
  },
  {
   "cell_type": "code",
   "execution_count": 9,
   "metadata": {
    "collapsed": false
   },
   "outputs": [
    {
     "name": "stdout",
     "output_type": "stream",
     "text": [
      "Add went well\n",
      "15\n"
     ]
    }
   ],
   "source": [
    "# Try except else\n",
    "try: \n",
    "    # this code we will try but may have an error\n",
    "    result = 10+5\n",
    "except: \n",
    "    # this code will run if there is an error\n",
    "    print(\"Hey looks like you aren't adding this correctly\")\n",
    "else:\n",
    "    # if no excepetion/ error\n",
    "    print('Add went well')\n",
    "    print(result)"
   ]
  },
  {
   "cell_type": "code",
   "execution_count": 2,
   "metadata": {
    "collapsed": false
   },
   "outputs": [
    {
     "name": "stdout",
     "output_type": "stream",
     "text": [
      "I will always run\n"
     ]
    }
   ],
   "source": [
    "# No error with try except finally\n",
    "try:\n",
    "    f = open('testfile','w')\n",
    "    f.write('Write a test line')\n",
    "except TypeError:\n",
    "    print('There was an type error')\n",
    "except OSError:\n",
    "    print('Hey you have an OS Error')\n",
    "finally:\n",
    "    # this code will always run error or no error\n",
    "    print('I will always run')"
   ]
  },
  {
   "cell_type": "code",
   "execution_count": 11,
   "metadata": {
    "collapsed": false
   },
   "outputs": [
    {
     "name": "stdout",
     "output_type": "stream",
     "text": [
      "Hey you have an OS Error\n",
      "I will always run\n"
     ]
    }
   ],
   "source": [
    "# be specfic on what the error could be\n",
    "try:\n",
    "    f = open('testfile','r')\n",
    "    f.write('Write a test line')\n",
    "except TypeError:\n",
    "    print('There was an type error')\n",
    "except OSError:\n",
    "    print('Hey you have an OS Error')\n",
    "finally:\n",
    "    # this code will always run error or no error\n",
    "    print('I will always run')"
   ]
  },
  {
   "cell_type": "code",
   "execution_count": 3,
   "metadata": {
    "collapsed": false
   },
   "outputs": [
    {
     "name": "stdout",
     "output_type": "stream",
     "text": [
      "Hey you have an error\n",
      "I will always run\n"
     ]
    }
   ],
   "source": [
    "# using just except to catch any error\n",
    "try:\n",
    "    f = open('testfile','r')\n",
    "    f.write('Write a test line')\n",
    "except:\n",
    "    print('Hey you have an error')\n",
    "finally:\n",
    "    # this code will always run error or no error\n",
    "    print('I will always run')"
   ]
  },
  {
   "cell_type": "code",
   "execution_count": 0,
   "metadata": {
    "collapsed": false
   },
   "outputs": [
   ],
   "source": [
   ]
  },
  {
   "cell_type": "code",
   "execution_count": 8,
   "metadata": {
    "collapsed": false
   },
   "outputs": [
   ],
   "source": [
    "def ask_for_int():\n",
    "    while True:\n",
    "        try:\n",
    "            result = int(input('Please provide number:\\n'))\n",
    "        except:\n",
    "            print('OOps! that is not a number')\n",
    "            continue\n",
    "        else:\n",
    "            print('Yes thank you')\n",
    "            break\n",
    "        finally:\n",
    "            print('\\nEnd of try/except/finally (I will always print )')"
   ]
  },
  {
   "cell_type": "code",
   "execution_count": 9,
   "metadata": {
    "cocalc": {
     "outputs": {
      "0": {
       "name": "input",
       "opts": {
        "password": false,
        "prompt": "Please provide number:\n"
       },
       "output_type": "stream",
       "value": "22"
      }
     }
    },
    "collapsed": false
   },
   "outputs": [
    {
     "name": "stdout",
     "output_type": "stream",
     "text": "Please provide number:\n 22"
    },
    {
     "name": "stdout",
     "output_type": "stream",
     "text": [
      "Yes thank you\n",
      "\n",
      "End of try/except/finally (I will always print )\n"
     ]
    }
   ],
   "source": [
    "ask_for_int()"
   ]
  },
  {
   "cell_type": "code",
   "execution_count": 10,
   "metadata": {
    "cocalc": {
     "outputs": {
      "0": {
       "name": "input",
       "opts": {
        "password": false,
        "prompt": "Please provide number:\n"
       },
       "output_type": "stream",
       "value": "wed"
      },
      "1": {
       "name": "input",
       "opts": {
        "password": false,
        "prompt": "Please provide number:\n"
       },
       "output_type": "stream"
      }
     }
    },
    "collapsed": false
   },
   "outputs": [
    {
     "name": "stdout",
     "output_type": "stream",
     "text": "Please provide number:\n wed"
    },
    {
     "name": "stdout",
     "output_type": "stream",
     "text": "Please provide number:\n "
    },
    {
     "name": "stdout",
     "output_type": "stream",
     "text": [
      "OOps! that is not a number\n",
      "\n",
      "End of try/except/finally (I will always print )\n"
     ],
     "value": "2"
    },
    {
     "name": "stdout",
     "output_type": "stream",
     "text": [
      "Yes thank you\n",
      "\n",
      "End of try/except/finally (I will always print )\n"
     ]
    }
   ],
   "source": [
    "ask_for_int()"
   ]
  },
  {
   "cell_type": "code",
   "execution_count": 0,
   "metadata": {
    "collapsed": false
   },
   "outputs": [
   ],
   "source": [
   ]
  }
 ],
 "metadata": {
  "kernelspec": {
   "display_name": "Python 3 (system-wide)",
   "language": "python",
   "metadata": {
    "cocalc": {
     "description": "Python 3 programming language",
     "priority": 100,
     "url": "https://www.python.org/"
    }
   },
   "name": "python3",
   "resource_dir": "/ext/jupyter/kernels/python3"
  },
  "language_info": {
   "codemirror_mode": {
    "name": "ipython",
    "version": 3
   },
   "file_extension": ".py",
   "mimetype": "text/x-python",
   "name": "python",
   "nbconvert_exporter": "python",
   "pygments_lexer": "ipython3",
   "version": "3.8.10"
  }
 },
 "nbformat": 4,
 "nbformat_minor": 4
}